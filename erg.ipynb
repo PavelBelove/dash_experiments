{
 "cells": [
  {
   "cell_type": "code",
   "execution_count": 168,
   "metadata": {},
   "outputs": [],
   "source": [
    "import numpy as np\n",
    "import pandas as pd\n",
    "import math\n"
   ]
  },
  {
   "cell_type": "code",
   "execution_count": 203,
   "metadata": {},
   "outputs": [],
   "source": [
    "# Постоянные\n",
    "PLAYERS = 5 #\n",
    "GAMES = 10 #\n",
    "\n",
    "SEED_MONEY = 100\n",
    "\n",
    "WIN_RATE = 1.5\n",
    "LOSS_RATE = 0.6"
   ]
  },
  {
   "cell_type": "code",
   "execution_count": 204,
   "metadata": {},
   "outputs": [],
   "source": [
    "matr = np.zeros(GAMES * PLAYERS).reshape(PLAYERS, -1)\n",
    "matr[:,0] = SEED_MONEY\n"
   ]
  },
  {
   "cell_type": "code",
   "execution_count": 205,
   "metadata": {},
   "outputs": [],
   "source": [
    "for i in range(1, matr.shape[1]):\n",
    "    for j in range(matr.shape[0]):\n",
    "        matr[j,i] = matr[j, i-1] * WIN_RATE if np.random.randint(2) else matr[j, i-1] * LOSS_RATE"
   ]
  },
  {
   "cell_type": "code",
   "execution_count": 206,
   "metadata": {},
   "outputs": [
    {
     "data": {
      "text/plain": [
       "array([[100.     ,  60.     ,  90.     , 135.     , 202.5    , 121.5    ,\n",
       "        182.25   , 273.375  , 164.025  , 246.0375 ],\n",
       "       [100.     , 150.     ,  90.     , 135.     , 202.5    , 121.5    ,\n",
       "         72.9    , 109.35   , 164.025  ,  98.415  ],\n",
       "       [100.     , 150.     , 225.     , 135.     ,  81.     ,  48.6    ,\n",
       "         29.16   ,  17.496  ,  10.4976 ,   6.29856],\n",
       "       [100.     ,  60.     ,  36.     ,  54.     ,  81.     ,  48.6    ,\n",
       "         29.16   ,  43.74   ,  65.61   ,  98.415  ],\n",
       "       [100.     , 150.     ,  90.     ,  54.     ,  32.4    ,  19.44   ,\n",
       "         11.664  ,  17.496  ,  26.244  ,  15.7464 ]])"
      ]
     },
     "execution_count": 206,
     "metadata": {},
     "output_type": "execute_result"
    }
   ],
   "source": [
    "matr"
   ]
  },
  {
   "cell_type": "code",
   "execution_count": 207,
   "metadata": {},
   "outputs": [],
   "source": [
    "\n",
    "df = pd.DataFrame(data=matr)"
   ]
  },
  {
   "cell_type": "code",
   "execution_count": 208,
   "metadata": {},
   "outputs": [],
   "source": [
    "# players = []\n",
    "# steps = []\n",
    "# money = []\n",
    "d = []\n",
    "rate = 1"
   ]
  },
  {
   "cell_type": "code",
   "execution_count": 209,
   "metadata": {},
   "outputs": [],
   "source": [
    "for i in range(PLAYERS):\n",
    "    x = SEED_MONEY\n",
    "    for j in range(GAMES):\n",
    "        d.append({\"players\": i, \"steps\": j, \"money\": x})\n",
    "\n",
    "        if np.random.randint(2):\n",
    "            x = x * (1-rate) + x * rate * WIN_RATE\n",
    "        else:\n",
    "            x = x * (1-rate) + x * rate * LOSS_RATE\n",
    "        \n"
   ]
  },
  {
   "cell_type": "code",
   "execution_count": 210,
   "metadata": {},
   "outputs": [
    {
     "data": {
      "text/html": [
       "<div>\n",
       "<style scoped>\n",
       "    .dataframe tbody tr th:only-of-type {\n",
       "        vertical-align: middle;\n",
       "    }\n",
       "\n",
       "    .dataframe tbody tr th {\n",
       "        vertical-align: top;\n",
       "    }\n",
       "\n",
       "    .dataframe thead th {\n",
       "        text-align: right;\n",
       "    }\n",
       "</style>\n",
       "<table border=\"1\" class=\"dataframe\">\n",
       "  <thead>\n",
       "    <tr style=\"text-align: right;\">\n",
       "      <th></th>\n",
       "      <th>0</th>\n",
       "      <th>1</th>\n",
       "      <th>2</th>\n",
       "      <th>3</th>\n",
       "      <th>4</th>\n",
       "      <th>5</th>\n",
       "      <th>6</th>\n",
       "      <th>7</th>\n",
       "      <th>8</th>\n",
       "      <th>9</th>\n",
       "      <th>...</th>\n",
       "      <th>40</th>\n",
       "      <th>41</th>\n",
       "      <th>42</th>\n",
       "      <th>43</th>\n",
       "      <th>44</th>\n",
       "      <th>45</th>\n",
       "      <th>46</th>\n",
       "      <th>47</th>\n",
       "      <th>48</th>\n",
       "      <th>49</th>\n",
       "    </tr>\n",
       "  </thead>\n",
       "  <tbody>\n",
       "    <tr>\n",
       "      <th>players</th>\n",
       "      <td>0.0</td>\n",
       "      <td>0.0</td>\n",
       "      <td>0.0</td>\n",
       "      <td>0.0</td>\n",
       "      <td>0.0</td>\n",
       "      <td>0.00</td>\n",
       "      <td>0.00</td>\n",
       "      <td>0.00</td>\n",
       "      <td>0.00</td>\n",
       "      <td>0.000</td>\n",
       "      <td>...</td>\n",
       "      <td>4.0</td>\n",
       "      <td>4.0</td>\n",
       "      <td>4.0</td>\n",
       "      <td>4.0</td>\n",
       "      <td>4.00</td>\n",
       "      <td>4.00</td>\n",
       "      <td>4.00</td>\n",
       "      <td>4.00</td>\n",
       "      <td>4.00</td>\n",
       "      <td>4.000</td>\n",
       "    </tr>\n",
       "    <tr>\n",
       "      <th>steps</th>\n",
       "      <td>0.0</td>\n",
       "      <td>1.0</td>\n",
       "      <td>2.0</td>\n",
       "      <td>3.0</td>\n",
       "      <td>4.0</td>\n",
       "      <td>5.00</td>\n",
       "      <td>6.00</td>\n",
       "      <td>7.00</td>\n",
       "      <td>8.00</td>\n",
       "      <td>9.000</td>\n",
       "      <td>...</td>\n",
       "      <td>0.0</td>\n",
       "      <td>1.0</td>\n",
       "      <td>2.0</td>\n",
       "      <td>3.0</td>\n",
       "      <td>4.00</td>\n",
       "      <td>5.00</td>\n",
       "      <td>6.00</td>\n",
       "      <td>7.00</td>\n",
       "      <td>8.00</td>\n",
       "      <td>9.000</td>\n",
       "    </tr>\n",
       "    <tr>\n",
       "      <th>money</th>\n",
       "      <td>100.0</td>\n",
       "      <td>150.0</td>\n",
       "      <td>225.0</td>\n",
       "      <td>337.5</td>\n",
       "      <td>202.5</td>\n",
       "      <td>303.75</td>\n",
       "      <td>182.25</td>\n",
       "      <td>109.35</td>\n",
       "      <td>65.61</td>\n",
       "      <td>98.415</td>\n",
       "      <td>...</td>\n",
       "      <td>100.0</td>\n",
       "      <td>60.0</td>\n",
       "      <td>36.0</td>\n",
       "      <td>21.6</td>\n",
       "      <td>12.96</td>\n",
       "      <td>19.44</td>\n",
       "      <td>29.16</td>\n",
       "      <td>43.74</td>\n",
       "      <td>65.61</td>\n",
       "      <td>39.366</td>\n",
       "    </tr>\n",
       "  </tbody>\n",
       "</table>\n",
       "<p>3 rows × 50 columns</p>\n",
       "</div>"
      ],
      "text/plain": [
       "            0      1      2      3      4       5       6       7      8   \\\n",
       "players    0.0    0.0    0.0    0.0    0.0    0.00    0.00    0.00   0.00   \n",
       "steps      0.0    1.0    2.0    3.0    4.0    5.00    6.00    7.00   8.00   \n",
       "money    100.0  150.0  225.0  337.5  202.5  303.75  182.25  109.35  65.61   \n",
       "\n",
       "             9   ...     40    41    42    43     44     45     46     47  \\\n",
       "players   0.000  ...    4.0   4.0   4.0   4.0   4.00   4.00   4.00   4.00   \n",
       "steps     9.000  ...    0.0   1.0   2.0   3.0   4.00   5.00   6.00   7.00   \n",
       "money    98.415  ...  100.0  60.0  36.0  21.6  12.96  19.44  29.16  43.74   \n",
       "\n",
       "            48      49  \n",
       "players   4.00   4.000  \n",
       "steps     8.00   9.000  \n",
       "money    65.61  39.366  \n",
       "\n",
       "[3 rows x 50 columns]"
      ]
     },
     "execution_count": 210,
     "metadata": {},
     "output_type": "execute_result"
    }
   ],
   "source": [
    "df = pd.DataFrame(d)\n",
    "df.T\n"
   ]
  },
  {
   "cell_type": "code",
   "execution_count": 211,
   "metadata": {},
   "outputs": [
    {
     "data": {
      "text/html": [
       "<div>\n",
       "<style scoped>\n",
       "    .dataframe tbody tr th:only-of-type {\n",
       "        vertical-align: middle;\n",
       "    }\n",
       "\n",
       "    .dataframe tbody tr th {\n",
       "        vertical-align: top;\n",
       "    }\n",
       "\n",
       "    .dataframe thead th {\n",
       "        text-align: right;\n",
       "    }\n",
       "</style>\n",
       "<table border=\"1\" class=\"dataframe\">\n",
       "  <thead>\n",
       "    <tr style=\"text-align: right;\">\n",
       "      <th></th>\n",
       "      <th>steps</th>\n",
       "      <th>players</th>\n",
       "      <th>money</th>\n",
       "    </tr>\n",
       "  </thead>\n",
       "  <tbody>\n",
       "    <tr>\n",
       "      <th>0</th>\n",
       "      <td>0</td>\n",
       "      <td>2.0</td>\n",
       "      <td>100.00000</td>\n",
       "    </tr>\n",
       "    <tr>\n",
       "      <th>1</th>\n",
       "      <td>1</td>\n",
       "      <td>2.0</td>\n",
       "      <td>114.00000</td>\n",
       "    </tr>\n",
       "    <tr>\n",
       "      <th>2</th>\n",
       "      <td>2</td>\n",
       "      <td>2.0</td>\n",
       "      <td>106.20000</td>\n",
       "    </tr>\n",
       "    <tr>\n",
       "      <th>3</th>\n",
       "      <td>3</td>\n",
       "      <td>2.0</td>\n",
       "      <td>136.62000</td>\n",
       "    </tr>\n",
       "    <tr>\n",
       "      <th>4</th>\n",
       "      <td>4</td>\n",
       "      <td>2.0</td>\n",
       "      <td>91.69200</td>\n",
       "    </tr>\n",
       "    <tr>\n",
       "      <th>5</th>\n",
       "      <td>5</td>\n",
       "      <td>2.0</td>\n",
       "      <td>108.37800</td>\n",
       "    </tr>\n",
       "    <tr>\n",
       "      <th>6</th>\n",
       "      <td>6</td>\n",
       "      <td>2.0</td>\n",
       "      <td>86.02200</td>\n",
       "    </tr>\n",
       "    <tr>\n",
       "      <th>7</th>\n",
       "      <td>7</td>\n",
       "      <td>2.0</td>\n",
       "      <td>69.98400</td>\n",
       "    </tr>\n",
       "    <tr>\n",
       "      <th>8</th>\n",
       "      <td>8</td>\n",
       "      <td>2.0</td>\n",
       "      <td>49.86360</td>\n",
       "    </tr>\n",
       "    <tr>\n",
       "      <th>9</th>\n",
       "      <td>9</td>\n",
       "      <td>2.0</td>\n",
       "      <td>58.26168</td>\n",
       "    </tr>\n",
       "  </tbody>\n",
       "</table>\n",
       "</div>"
      ],
      "text/plain": [
       "   steps  players      money\n",
       "0      0      2.0  100.00000\n",
       "1      1      2.0  114.00000\n",
       "2      2      2.0  106.20000\n",
       "3      3      2.0  136.62000\n",
       "4      4      2.0   91.69200\n",
       "5      5      2.0  108.37800\n",
       "6      6      2.0   86.02200\n",
       "7      7      2.0   69.98400\n",
       "8      8      2.0   49.86360\n",
       "9      9      2.0   58.26168"
      ]
     },
     "execution_count": 211,
     "metadata": {},
     "output_type": "execute_result"
    }
   ],
   "source": [
    "gdf = df.groupby('steps').sum('money')/PLAYERS\n",
    "gdf.reset_index( inplace=True)\n",
    "gdf"
   ]
  },
  {
   "cell_type": "code",
   "execution_count": 212,
   "metadata": {},
   "outputs": [],
   "source": [
    "gdf['ideal'] = gdf['steps'] * 1.05"
   ]
  },
  {
   "cell_type": "code",
   "execution_count": 213,
   "metadata": {},
   "outputs": [
    {
     "data": {
      "text/plain": [
       "0.6"
      ]
     },
     "execution_count": 213,
     "metadata": {},
     "output_type": "execute_result"
    }
   ],
   "source": [
    "w_rate = 1 + (WIN_RATE-1) * rate\n",
    "l_rate = 1 + (LOSS_RATE-1) * rate\n",
    "l_rate"
   ]
  },
  {
   "cell_type": "code",
   "execution_count": 214,
   "metadata": {},
   "outputs": [
    {
     "data": {
      "text/plain": [
       "0.9486832980505138"
      ]
     },
     "execution_count": 214,
     "metadata": {},
     "output_type": "execute_result"
    }
   ],
   "source": [
    "coef = 1 + (WIN_RATE + LOSS_RATE - 2) * rate / 2\n",
    "q = math.sqrt((1 + (WIN_RATE-1) * rate) * (1 + (LOSS_RATE-1) * rate))\n",
    "q"
   ]
  },
  {
   "cell_type": "code",
   "execution_count": 215,
   "metadata": {},
   "outputs": [],
   "source": [
    "gdf['ideal'] = SEED_MONEY * ((1 + (WIN_RATE + LOSS_RATE - 2) * rate / 2) ** gdf['steps'])\n",
    "gdf['expected in time'] = SEED_MONEY * ((math.sqrt((1 + (WIN_RATE-1) * rate) * (1 + (LOSS_RATE-1) * rate))) ** gdf['steps'])"
   ]
  },
  {
   "cell_type": "code",
   "execution_count": 226,
   "metadata": {},
   "outputs": [
    {
     "name": "stdout",
     "output_type": "stream",
     "text": [
      "rate=0.0, arifm_coef=1.0, geom_coef=1.0\n",
      "rate=0.1, arifm_coef=1.005, geom_coef=1.0039920318408906\n",
      "rate=0.2, arifm_coef=1.01, geom_coef=1.0059821071967434\n",
      "rate=0.30000000000000004, arifm_coef=1.0150000000000001, geom_coef=1.0059821071967434\n",
      "rate=0.4, arifm_coef=1.02, geom_coef=1.0039920318408906\n",
      "rate=0.5, arifm_coef=1.025, geom_coef=1.0\n",
      "rate=0.6000000000000001, arifm_coef=1.03, geom_coef=0.9939818911831342\n",
      "rate=0.7000000000000001, arifm_coef=1.0350000000000001, geom_coef=0.985900603509299\n",
      "rate=0.8, arifm_coef=1.04, geom_coef=0.9757048734120374\n",
      "rate=0.9, arifm_coef=1.045, geom_coef=0.9633275663033836\n",
      "rate=1.0, arifm_coef=1.05, geom_coef=0.9486832980505138\n"
     ]
    }
   ],
   "source": [
    "for i in range(11):\n",
    "    rate = 0.1* i\n",
    "\n",
    "    arifm_coef = 1 + (WIN_RATE + LOSS_RATE - 2) * rate / 2\n",
    "    geom_coef = math.sqrt((1 + (WIN_RATE-1) * rate) * (1 + (LOSS_RATE-1) * rate))\n",
    "\n",
    "    print(f'rate={rate}, arifm_coef={arifm_coef}, geom_coef={geom_coef}')"
   ]
  },
  {
   "cell_type": "code",
   "execution_count": 228,
   "metadata": {},
   "outputs": [
    {
     "data": {
      "text/plain": [
       "0.8999999999999999"
      ]
     },
     "execution_count": 228,
     "metadata": {},
     "output_type": "execute_result"
    }
   ],
   "source": [
    "rate=1\n",
    "geom_coef = ((1 + (WIN_RATE-1) * rate) * (1 + (LOSS_RATE-1) * rate))\n",
    "geom_coef"
   ]
  },
  {
   "cell_type": "code",
   "execution_count": 234,
   "metadata": {},
   "outputs": [],
   "source": [
    "dff = df[df['steps'] == max(df['steps'])].sort_values('money', ascending=[False])"
   ]
  },
  {
   "cell_type": "code",
   "execution_count": 236,
   "metadata": {},
   "outputs": [
    {
     "data": {
      "text/html": [
       "<div>\n",
       "<style scoped>\n",
       "    .dataframe tbody tr th:only-of-type {\n",
       "        vertical-align: middle;\n",
       "    }\n",
       "\n",
       "    .dataframe tbody tr th {\n",
       "        vertical-align: top;\n",
       "    }\n",
       "\n",
       "    .dataframe thead th {\n",
       "        text-align: right;\n",
       "    }\n",
       "</style>\n",
       "<table border=\"1\" class=\"dataframe\">\n",
       "  <thead>\n",
       "    <tr style=\"text-align: right;\">\n",
       "      <th></th>\n",
       "      <th>players</th>\n",
       "      <th>steps</th>\n",
       "      <th>money</th>\n",
       "    </tr>\n",
       "  </thead>\n",
       "  <tbody>\n",
       "    <tr>\n",
       "      <th>9</th>\n",
       "      <td>0</td>\n",
       "      <td>9</td>\n",
       "      <td>98.415</td>\n",
       "    </tr>\n",
       "    <tr>\n",
       "      <th>19</th>\n",
       "      <td>1</td>\n",
       "      <td>9</td>\n",
       "      <td>98.415</td>\n",
       "    </tr>\n",
       "    <tr>\n",
       "      <th>29</th>\n",
       "      <td>2</td>\n",
       "      <td>9</td>\n",
       "      <td>39.366</td>\n",
       "    </tr>\n",
       "  </tbody>\n",
       "</table>\n",
       "</div>"
      ],
      "text/plain": [
       "    players  steps   money\n",
       "9         0      9  98.415\n",
       "19        1      9  98.415\n",
       "29        2      9  39.366"
      ]
     },
     "execution_count": 236,
     "metadata": {},
     "output_type": "execute_result"
    }
   ],
   "source": [
    "dff[:3]"
   ]
  },
  {
   "cell_type": "code",
   "execution_count": 248,
   "metadata": {},
   "outputs": [
    {
     "data": {
      "text/plain": [
       "9     0\n",
       "19    1\n",
       "29    2\n",
       "Name: players, dtype: int64"
      ]
     },
     "execution_count": 248,
     "metadata": {},
     "output_type": "execute_result"
    }
   ],
   "source": [
    "filter_players = df[df['steps'] == max(df['steps'])].sort_values('money', ascending=[False])[:3]['players']\n",
    "filter_players"
   ]
  },
  {
   "cell_type": "code",
   "execution_count": 249,
   "metadata": {},
   "outputs": [],
   "source": [
    "dff = df[df['players'].isin(filter_players)] "
   ]
  },
  {
   "cell_type": "code",
   "execution_count": 255,
   "metadata": {},
   "outputs": [
    {
     "data": {
      "text/plain": [
       "1"
      ]
     },
     "execution_count": 255,
     "metadata": {},
     "output_type": "execute_result"
    }
   ],
   "source": [
    "df['players'].unique()"
   ]
  },
  {
   "cell_type": "code",
   "execution_count": 253,
   "metadata": {},
   "outputs": [],
   "source": [
    "import random\n",
    "\n",
    "x = random.shuffle(df['players'].unique())\n",
    "x"
   ]
  },
  {
   "cell_type": "code",
   "execution_count": 257,
   "metadata": {},
   "outputs": [
    {
     "data": {
      "text/plain": [
       "array([1, 2, 4, 3, 0])"
      ]
     },
     "execution_count": 257,
     "metadata": {},
     "output_type": "execute_result"
    }
   ],
   "source": [
    "index = np.random.choice(df['players'].unique(), 5, replace=False)\n",
    "index"
   ]
  },
  {
   "cell_type": "code",
   "execution_count": 258,
   "metadata": {},
   "outputs": [],
   "source": [
    "dff = df[df['players'].isin(np.random.choice(df['players'].unique(), 5, replace=False))] "
   ]
  },
  {
   "cell_type": "code",
   "execution_count": null,
   "metadata": {},
   "outputs": [],
   "source": []
  }
 ],
 "metadata": {
  "interpreter": {
   "hash": "5c8df3d096768051e822866156eee06630f9be8eb9fb1f537234956a08f58499"
  },
  "kernelspec": {
   "display_name": "Python 3.9.7 64-bit ('dash_env': conda)",
   "language": "python",
   "name": "python3"
  },
  "language_info": {
   "codemirror_mode": {
    "name": "ipython",
    "version": 3
   },
   "file_extension": ".py",
   "mimetype": "text/x-python",
   "name": "python",
   "nbconvert_exporter": "python",
   "pygments_lexer": "ipython3",
   "version": "3.9.7"
  },
  "orig_nbformat": 4
 },
 "nbformat": 4,
 "nbformat_minor": 2
}
